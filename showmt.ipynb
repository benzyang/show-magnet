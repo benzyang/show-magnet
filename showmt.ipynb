{
 "cells": [
  {
   "cell_type": "code",
   "execution_count": 1,
   "metadata": {},
   "outputs": [],
   "source": [
    "import requests\n",
    "from PIL import Image\n",
    "from io import BytesIO\n",
    "from IPython.display import display"
   ]
  },
  {
   "cell_type": "code",
   "execution_count": 2,
   "metadata": {},
   "outputs": [],
   "source": [
    "def whatslink(link, showimage):\n",
    "    url = \"https://whatslink.info/api/v1/link\"\n",
    "    params = {\n",
    "    \"url\": link\n",
    "    }\n",
    "\n",
    "    response = requests.get(url, params=params)\n",
    "    data = response.json()\n",
    "    # print(data)\n",
    "    name = data[\"name\"]\n",
    "    count = data[\"count\"]\n",
    "    size = data[\"size\"]\n",
    "    formatted_size = \"{:.2f} MB\".format(size / 1024 / 1024) if size / 1024 / 1024 < 1000 else \"{:.2f} GB\".format(size / 1024 / 1024 / 1024)\n",
    "    file_type = data[\"file_type\"]\n",
    "    screenshots = data[\"screenshots\"]\n",
    "\n",
    "    print(\"Resource Name: \", name)\n",
    "    print(\"Number of Files: \", count)\n",
    "    print(\"Total File Size: \", formatted_size)\n",
    "    print('File Type: ', file_type)6\n",
    "    if showimage:\n",
    "        for i in screenshots:\n",
    "            image_url = i['screenshot']\n",
    "            \n",
    "            # 发送请求并获取图片数据\n",
    "            response = requests.get(image_url)\n",
    "            image_data = response.content\n",
    "\n",
    "            # 将图片数据转换为Image对象\n",
    "            image = Image.open(BytesIO(image_data))\n",
    "\n",
    "            # 显示图片\n",
    "            display(image)\n",
    "        "
   ]
  },
  {
   "cell_type": "code",
   "execution_count": 5,
   "metadata": {},
   "outputs": [
    {
     "name": "stdout",
     "output_type": "stream",
     "text": [
      "Resource Name:  \n",
      "Number of Files:  0\n",
      "Total File Size:  0.00 MB\n",
      "File Type:  \n"
     ]
    }
   ],
   "source": [
    "link = input('link?')\n",
    "showimage = False\n",
    "\n",
    "whatslink(f'{link}', showimage)"
   ]
  }
 ],
 "metadata": {
  "kernelspec": {
   "display_name": "gptac",
   "language": "python",
   "name": "python3"
  },
  "language_info": {
   "codemirror_mode": {
    "name": "ipython",
    "version": 3
   },
   "file_extension": ".py",
   "mimetype": "text/x-python",
   "name": "python",
   "nbconvert_exporter": "python",
   "pygments_lexer": "ipython3",
   "version": "3.11.2"
  },
  "orig_nbformat": 4
 },
 "nbformat": 4,
 "nbformat_minor": 2
}
